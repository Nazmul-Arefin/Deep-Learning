{
 "cells": [
  {
   "cell_type": "code",
   "execution_count": null,
   "id": "4ea08042",
   "metadata": {},
   "outputs": [],
   "source": [
    "# 1) Design model (input, output, forward pass with different layers)\n",
    "# 2) Construct loss and optimizer\n",
    "# 3) Training loop\n",
    "#       - Forward = compute prediction and loss\n",
    "#       - Backward = compute gradients\n",
    "#       - Update weights"
   ]
  },
  {
   "cell_type": "code",
   "execution_count": 3,
   "id": "e1fd3ff6",
   "metadata": {},
   "outputs": [],
   "source": [
    "# import libray\n",
    "import torch\n",
    "import torch.nn as nn"
   ]
  },
  {
   "cell_type": "code",
   "execution_count": 4,
   "id": "c5d41e99",
   "metadata": {},
   "outputs": [],
   "source": [
    "# 0) training samples\n",
    "X = torch.tensor([[1], [2], [3], [4]], dtype = torch.float32)\n",
    "Y = torch.tensor([[2], [4], [6], [8]], dtype = torch.float32)"
   ]
  },
  {
   "cell_type": "code",
   "execution_count": 7,
   "id": "61025dd9",
   "metadata": {},
   "outputs": [
    {
     "name": "stdout",
     "output_type": "stream",
     "text": [
      "Samples: 4, features: 1\n"
     ]
    }
   ],
   "source": [
    "n_sample, n_features = X.shape\n",
    "print(f'Samples: {n_sample}, features: {n_features}')"
   ]
  },
  {
   "cell_type": "code",
   "execution_count": 8,
   "id": "d7438281",
   "metadata": {},
   "outputs": [],
   "source": [
    "# creat a test sample\n",
    "X_test = torch.tensor([5], dtype = torch.float32)"
   ]
  },
  {
   "cell_type": "code",
   "execution_count": 20,
   "id": "798ad314",
   "metadata": {},
   "outputs": [],
   "source": [
    "# 1) design model \n",
    "input_size = n_features\n",
    "output_size = n_features\n",
    "\n",
    "#model = nn.Linear(input_size, output_size)\n",
    "\n",
    "class LinearRegression(nn.Module):\n",
    "    def __init__(self, input_dim, output_dim):\n",
    "        super(LinearRegression, self).__init__()\n",
    "        # define different layers\n",
    "        self.lin = nn.Linear(input_dim, output_dim)\n",
    "    \n",
    "    def forward(self, x):\n",
    "        return self.lin(x)\n",
    "    \n",
    "model = LinearRegression(input_size, output_size)"
   ]
  },
  {
   "cell_type": "code",
   "execution_count": 21,
   "id": "fa7f9ba7",
   "metadata": {},
   "outputs": [
    {
     "name": "stdout",
     "output_type": "stream",
     "text": [
      "Prediction before training: f(5) = -1.155\n"
     ]
    }
   ],
   "source": [
    "print(f'Prediction before training: f(5) = {model(X_test).item():.3f}')"
   ]
  },
  {
   "cell_type": "code",
   "execution_count": 24,
   "id": "055d5841",
   "metadata": {},
   "outputs": [],
   "source": [
    "# 2) define loss and optimizer\n",
    "\n",
    "learning_rate = 0.01\n",
    "n_iters = 200\n",
    "\n",
    "# callable function \n",
    "loss = nn.MSELoss()\n",
    "optimizer = torch.optim.SGD(model.parameters(), lr = learning_rate)"
   ]
  },
  {
   "cell_type": "code",
   "execution_count": 25,
   "id": "ce09e8e1",
   "metadata": {},
   "outputs": [
    {
     "name": "stdout",
     "output_type": "stream",
     "text": [
      "epoch  1 : w =  1.9530839920043945  loss =  tensor(0.0032, grad_fn=<MseLossBackward0>)\n",
      "epoch  11 : w =  1.9544697999954224  loss =  tensor(0.0030, grad_fn=<MseLossBackward0>)\n",
      "epoch  21 : w =  1.9558147192001343  loss =  tensor(0.0028, grad_fn=<MseLossBackward0>)\n",
      "epoch  31 : w =  1.9571199417114258  loss =  tensor(0.0027, grad_fn=<MseLossBackward0>)\n",
      "epoch  41 : w =  1.9583865404129028  loss =  tensor(0.0025, grad_fn=<MseLossBackward0>)\n",
      "epoch  51 : w =  1.959615707397461  loss =  tensor(0.0024, grad_fn=<MseLossBackward0>)\n",
      "epoch  61 : w =  1.9608083963394165  loss =  tensor(0.0022, grad_fn=<MseLossBackward0>)\n",
      "epoch  71 : w =  1.9619663953781128  loss =  tensor(0.0021, grad_fn=<MseLossBackward0>)\n",
      "epoch  81 : w =  1.9630898237228394  loss =  tensor(0.0020, grad_fn=<MseLossBackward0>)\n",
      "epoch  91 : w =  1.9641801118850708  loss =  tensor(0.0019, grad_fn=<MseLossBackward0>)\n",
      "epoch  101 : w =  1.9652382135391235  loss =  tensor(0.0018, grad_fn=<MseLossBackward0>)\n",
      "epoch  111 : w =  1.9662649631500244  loss =  tensor(0.0017, grad_fn=<MseLossBackward0>)\n",
      "epoch  121 : w =  1.967261552810669  loss =  tensor(0.0016, grad_fn=<MseLossBackward0>)\n",
      "epoch  131 : w =  1.9682284593582153  loss =  tensor(0.0015, grad_fn=<MseLossBackward0>)\n",
      "epoch  141 : w =  1.9691669940948486  loss =  tensor(0.0014, grad_fn=<MseLossBackward0>)\n",
      "epoch  151 : w =  1.9700778722763062  loss =  tensor(0.0013, grad_fn=<MseLossBackward0>)\n",
      "epoch  161 : w =  1.9709616899490356  loss =  tensor(0.0012, grad_fn=<MseLossBackward0>)\n",
      "epoch  171 : w =  1.9718194007873535  loss =  tensor(0.0012, grad_fn=<MseLossBackward0>)\n",
      "epoch  181 : w =  1.972651720046997  loss =  tensor(0.0011, grad_fn=<MseLossBackward0>)\n",
      "epoch  191 : w =  1.9734597206115723  loss =  tensor(0.0010, grad_fn=<MseLossBackward0>)\n",
      "Prediction after training: f(5) = 9.947\n"
     ]
    }
   ],
   "source": [
    "# 3) Training loop\n",
    "\n",
    "for epoch in range(n_iters):\n",
    "    # predict = forward pass\n",
    "    y_predict = model(X)\n",
    "    \n",
    "    # loss\n",
    "    l = loss(Y, y_predict)\n",
    "    \n",
    "    # calculate gradients = backward pass\n",
    "    l.backward()\n",
    "    \n",
    "    # update weights\n",
    "    optimizer.step()\n",
    "    \n",
    "    # zero the gradient after updating\n",
    "    optimizer.zero_grad()\n",
    "    \n",
    "    if epoch % 10 == 0:\n",
    "        [w, b] = model.parameters()\n",
    "        print('epoch ', epoch+1, ': w = ', w[0][0].item(), ' loss = ', l)\n",
    "        \n",
    "print(f'Prediction after training: f(5) = {model(X_test).item():.3f}')"
   ]
  },
  {
   "cell_type": "code",
   "execution_count": null,
   "id": "21503e5b",
   "metadata": {},
   "outputs": [],
   "source": []
  }
 ],
 "metadata": {
  "kernelspec": {
   "display_name": "Python 3 (ipykernel)",
   "language": "python",
   "name": "python3"
  },
  "language_info": {
   "codemirror_mode": {
    "name": "ipython",
    "version": 3
   },
   "file_extension": ".py",
   "mimetype": "text/x-python",
   "name": "python",
   "nbconvert_exporter": "python",
   "pygments_lexer": "ipython3",
   "version": "3.10.9"
  }
 },
 "nbformat": 4,
 "nbformat_minor": 5
}
