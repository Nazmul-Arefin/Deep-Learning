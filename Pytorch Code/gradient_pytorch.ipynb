{
 "cells": [
  {
   "cell_type": "code",
   "execution_count": 1,
   "id": "c5e6b142",
   "metadata": {},
   "outputs": [],
   "source": [
    "# Import liabray\n",
    "import torch"
   ]
  },
  {
   "cell_type": "code",
   "execution_count": 7,
   "id": "7ffc40d1",
   "metadata": {},
   "outputs": [],
   "source": [
    "# Linear Regression\n",
    "# f = w * x\n",
    "\n",
    "X = torch.tensor([1, 2, 3, 4], dtype = torch.float32)\n",
    "Y = torch.tensor([2, 4, 6, 8], dtype = torch.float32)\n",
    "\n",
    "w = torch.tensor(0.0, dtype = torch.float32, requires_grad = True)"
   ]
  },
  {
   "cell_type": "code",
   "execution_count": 8,
   "id": "75ab8665",
   "metadata": {},
   "outputs": [],
   "source": [
    "# Model output\n",
    "def forword(x):\n",
    "    return w * x"
   ]
  },
  {
   "cell_type": "code",
   "execution_count": 12,
   "id": "e4e18e0d",
   "metadata": {},
   "outputs": [],
   "source": [
    "# Loss\n",
    "\n",
    "def loss(y, y_predict):\n",
    "    return ((y_predict - y) ** 2).mean()"
   ]
  },
  {
   "cell_type": "code",
   "execution_count": 10,
   "id": "7c3dc829",
   "metadata": {},
   "outputs": [
    {
     "name": "stdout",
     "output_type": "stream",
     "text": [
      "Prediction before training: f(5): 0.000\n"
     ]
    }
   ],
   "source": [
    "print(f'Prediction before training: f(5): {forword(5).item():.3f}')"
   ]
  },
  {
   "cell_type": "code",
   "execution_count": 14,
   "id": "76207c48",
   "metadata": {},
   "outputs": [
    {
     "name": "stdout",
     "output_type": "stream",
     "text": [
      "epoch 1: w = 0.300, loss = 30.000000\n",
      "epoch 11: w = 1.665, loss = 1.162786\n",
      "epoch 21: w = 1.934, loss = 0.045069\n",
      "epoch 31: w = 1.987, loss = 0.001747\n",
      "epoch 41: w = 1.997, loss = 0.000068\n",
      "epoch 51: w = 1.999, loss = 0.000003\n",
      "epoch 61: w = 2.000, loss = 0.000000\n",
      "epoch 71: w = 2.000, loss = 0.000000\n",
      "epoch 81: w = 2.000, loss = 0.000000\n",
      "epoch 91: w = 2.000, loss = 0.000000\n",
      "Prediction after training: f(5) = 9.99999809\n"
     ]
    }
   ],
   "source": [
    "# Training\n",
    "\n",
    "learning_rate = 0.01\n",
    "n_iters = 100\n",
    "\n",
    "for epoch in range(n_iters):\n",
    "    # Predict = forword pass\n",
    "    y_predict = forword(X)\n",
    "    \n",
    "    # loss\n",
    "    l = loss(Y, y_predict)\n",
    "    \n",
    "    # calculate gradient = backword pass\n",
    "    l.backward()\n",
    "    \n",
    "    # Updade weights\n",
    "    # w.data = w.data - leaning_rate * w.grad\n",
    "    with torch.no_grad():\n",
    "        w -= learning_rate * w.grad\n",
    "        \n",
    "    # zero the gradient after updaing\n",
    "    w.grad.zero_()\n",
    "    \n",
    "    if epoch % 10 == 0:\n",
    "        print(f'epoch {epoch+1}: w = {w.item():.3f}, loss = {l.item():8f}')\n",
    "        \n",
    "print(f'Prediction after training: f(5) = {forword(5).item():.8f}')"
   ]
  },
  {
   "cell_type": "code",
   "execution_count": null,
   "id": "9aea1fb6",
   "metadata": {},
   "outputs": [],
   "source": []
  }
 ],
 "metadata": {
  "kernelspec": {
   "display_name": "Python 3 (ipykernel)",
   "language": "python",
   "name": "python3"
  },
  "language_info": {
   "codemirror_mode": {
    "name": "ipython",
    "version": 3
   },
   "file_extension": ".py",
   "mimetype": "text/x-python",
   "name": "python",
   "nbconvert_exporter": "python",
   "pygments_lexer": "ipython3",
   "version": "3.10.9"
  }
 },
 "nbformat": 4,
 "nbformat_minor": 5
}
