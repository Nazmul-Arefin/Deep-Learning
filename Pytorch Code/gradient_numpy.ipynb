{
 "cells": [
  {
   "cell_type": "code",
   "execution_count": 1,
   "id": "83557cfd",
   "metadata": {},
   "outputs": [],
   "source": [
    "# import library \n",
    "import numpy as np"
   ]
  },
  {
   "cell_type": "code",
   "execution_count": 2,
   "id": "f5a15c1d",
   "metadata": {},
   "outputs": [],
   "source": [
    "# f = w * x\n",
    "X = np.array([1, 2, 3, 4])\n",
    "Y = np.array([2, 4, 6, 8])"
   ]
  },
  {
   "cell_type": "code",
   "execution_count": 9,
   "id": "a115c803",
   "metadata": {},
   "outputs": [],
   "source": [
    "# Model Prediction\n",
    "w = 0.0\n",
    "\n",
    "# Model output\n",
    "def forword(x):\n",
    "    return w * x"
   ]
  },
  {
   "cell_type": "code",
   "execution_count": 10,
   "id": "483318f5",
   "metadata": {},
   "outputs": [],
   "source": [
    "# loss = MSE\n",
    "def loss(y, y_predict):\n",
    "    return ((y_predict - y) ** 2).mean()"
   ]
  },
  {
   "cell_type": "code",
   "execution_count": 11,
   "id": "e3774152",
   "metadata": {},
   "outputs": [
    {
     "name": "stdout",
     "output_type": "stream",
     "text": [
      "Prediction before training: f(5) = 0.000\n"
     ]
    }
   ],
   "source": [
    "# Gradient\n",
    "# J = MSE = 1/N * (w*x - y)**2\n",
    "# dj/dw = 1/N * 2x(w*x -y)\n",
    "\n",
    "def gradient(x, y, y_predict):\n",
    "    return np.mean(2*x*(y_predict - y))\n",
    "\n",
    "print(f'Prediction before training: f(5) = {forword(5):.3f}')"
   ]
  },
  {
   "cell_type": "code",
   "execution_count": 14,
   "id": "db065cb7",
   "metadata": {},
   "outputs": [
    {
     "name": "stdout",
     "output_type": "stream",
     "text": [
      "epoch 1: w = 1.997, loss = 0.00006771\n",
      "epoch 3: w = 1.998, loss = 0.00003534\n",
      "epoch 5: w = 1.999, loss = 0.00001845\n",
      "epoch 7: w = 1.999, loss = 0.00000963\n",
      "epoch 9: w = 1.999, loss = 0.00000503\n",
      "epoch 11: w = 1.999, loss = 0.00000262\n",
      "epoch 13: w = 2.000, loss = 0.00000137\n",
      "epoch 15: w = 2.000, loss = 0.00000072\n",
      "epoch 17: w = 2.000, loss = 0.00000037\n",
      "epoch 19: w = 2.000, loss = 0.00000019\n",
      "epoch 21: w = 2.000, loss = 0.00000010\n",
      "epoch 23: w = 2.000, loss = 0.00000005\n",
      "epoch 25: w = 2.000, loss = 0.00000003\n",
      "epoch 27: w = 2.000, loss = 0.00000001\n",
      "epoch 29: w = 2.000, loss = 0.00000001\n",
      "Prediction after training: f(5) = 10.000\n"
     ]
    }
   ],
   "source": [
    "# Training\n",
    "\n",
    "learning_rate = 0.01\n",
    "n_iters = 30\n",
    "\n",
    "for epoch in range(n_iters):\n",
    "    # predict = forword pass\n",
    "    y_predict = forword(X)\n",
    "    \n",
    "    # loss\n",
    "    l = loss(Y, y_predict)\n",
    "    \n",
    "    # calculate gradient\n",
    "    dw = gradient(X, Y, y_predict)\n",
    "    \n",
    "    # update weight\n",
    "    w -= learning_rate * dw\n",
    "    \n",
    "    if epoch % 2 == 0:\n",
    "        print(f'epoch {epoch+1}: w = {w:.3f}, loss = {l:.8f}')\n",
    "\n",
    "print(f'Prediction after training: f(5) = {forword(5):.3f}')"
   ]
  },
  {
   "cell_type": "code",
   "execution_count": null,
   "id": "9aa62f1e",
   "metadata": {},
   "outputs": [],
   "source": []
  }
 ],
 "metadata": {
  "kernelspec": {
   "display_name": "Python 3 (ipykernel)",
   "language": "python",
   "name": "python3"
  },
  "language_info": {
   "codemirror_mode": {
    "name": "ipython",
    "version": 3
   },
   "file_extension": ".py",
   "mimetype": "text/x-python",
   "name": "python",
   "nbconvert_exporter": "python",
   "pygments_lexer": "ipython3",
   "version": "3.10.9"
  }
 },
 "nbformat": 4,
 "nbformat_minor": 5
}
